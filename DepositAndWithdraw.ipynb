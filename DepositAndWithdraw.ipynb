{
 "cells": [
  {
   "cell_type": "markdown",
   "id": "1c81447d",
   "metadata": {},
   "source": [
    "[🥭 Mango Markets](https://mango.markets/) support is available at: [Docs](https://docs.mango.markets/) | [Discord](https://discord.gg/67jySBhxrg) | [Twitter](https://twitter.com/mangomarkets) | [Github](https://github.com/blockworks-foundation) | [Email](mailto:hello@blockworks.foundation)\n",
    "\n",
    "[![Binder](https://mybinder.org/badge_logo.svg)](https://mybinder.org/v2/gh/blockworks-foundation/mango-explorer-examples/HEAD?labpath=DepositAndWithdraw.ipynb) [Run this code](https://mybinder.org/v2/gh/blockworks-foundation/mango-explorer-examples/HEAD?labpath=DepositAndWithdraw.ipynb) on Binder.\n",
    "\n",
    "_🏃‍♀️ To run this notebook press the ⏩ icon in the toolbar above._"
   ]
  },
  {
   "cell_type": "markdown",
   "id": "055fbf67",
   "metadata": {},
   "source": [
    "# 🥭 Deposit and Withdraw\n",
    "\n",
    "This notebook shows how to deposit a quantity of a specific token into a Mango Account, and then withdraw it.\n",
    "\n",
    "This involves using Mango's root and node banks. Root banks keep track of tokens deposited across all Mango accounts, and node banks hold the actual tokens themselves. Deposit and withdrawal instructions therefore require the addresses of the root and node banks. This code shows how to access and provide those addresses."
   ]
  },
  {
   "cell_type": "code",
   "execution_count": null,
   "id": "88779eaa",
   "metadata": {},
   "outputs": [],
   "source": [
    "import decimal\n",
    "import mango\n",
    "import time\n",
    "\n",
    "# Use this function to display balances because it always fetches fresh data\n",
    "def show_balances(context, wallet, group, sol_token):\n",
    "    # Find the current SPL token balance\n",
    "    token_account = mango.TokenAccount.fetch_largest_for_owner_and_token(context, wallet.address, sol_token)\n",
    "    print(\"Wrapped SOL in wallet:\", token_account.value)\n",
    "\n",
    "    # Find the SOL-specific details in the account\n",
    "    accounts = mango.Account.load_all_for_owner(context, wallet.address, group)\n",
    "    basket_sol = accounts[0].find_basket_token(sol_token)\n",
    "    print(\"Wrapped SOL in account\", basket_sol.net_value)\n",
    "    print()\n",
    "    \n",
    "# Use our hard-coded devnet wallet for DeekipCw5jz7UgQbtUbHQckTYGKXWaPQV4xY93DaiM6h.\n",
    "# For real-world use you'd load the bytes from the environment or a file.\n",
    "wallet = mango.Wallet([67,218,68,118,140,171,228,222,8,29,48,61,255,114,49,226,239,89,151,110,29,136,149,118,97,189,163,8,23,88,246,35,187,241,107,226,47,155,40,162,3,222,98,203,176,230,34,49,45,8,253,77,136,241,34,4,80,227,234,174,103,11,124,146])\n",
    "\n",
    "# Signers are effectively an empty CombinableInstruction that only carries the keys for\n",
    "# signing transactions\n",
    "signers: mango.CombinableInstructions = mango.CombinableInstructions.from_wallet(wallet)\n",
    "\n",
    "# Create a 'devnet' Context\n",
    "context = mango.ContextBuilder.build(cluster_name=\"devnet\")\n",
    "\n",
    "# Mango accounts are per-Group, so we need to load the Group first.\n",
    "group = mango.Group.load(context)\n",
    "\n",
    "# Find the wrapped SOL token\n",
    "sol_token = context.token_lookup.find_by_symbol_or_raise(\"SOL\")\n",
    "\n",
    "print(\"Before:\")\n",
    "show_balances(context, wallet, group, sol_token)\n",
    "\n",
    "\n",
    "print(\"Depositing 0.5 SOL:\")\n",
    "\n",
    "accounts = mango.Account.load_all_for_owner(context, wallet.address, group)\n",
    "token_info = group.find_token_info_by_token(sol_token)\n",
    "root_bank = token_info.root_bank\n",
    "node_bank = root_bank.pick_node_bank(context)\n",
    "\n",
    "deposit_value = mango.TokenValue(sol_token, decimal.Decimal(\"0.5\"))\n",
    "source_token_account = mango.TokenAccount.fetch_largest_for_owner_and_token(context, wallet.address, sol_token)\n",
    "deposit_token_account = mango.TokenAccount(source_token_account.account_info, source_token_account.version, source_token_account.owner, deposit_value)\n",
    "\n",
    "deposit = mango.build_deposit_instructions(context, wallet, group, accounts[0], root_bank, node_bank, deposit_token_account)\n",
    "\n",
    "all_deposit_instructions = signers + deposit\n",
    "deposit_transaction_ids = all_deposit_instructions.execute(context)\n",
    "print(\"Deposit transaction IDs:\", deposit_transaction_ids)\n",
    "\n",
    "print(\"Sleeping for 10 seconds...\\n\")\n",
    "time.sleep(10)\n",
    "\n",
    "print(\"After deposit:\")\n",
    "show_balances(context, wallet, group, sol_token)\n",
    "\n",
    "print(\"Withdrawing 0.5 SOL:\")\n",
    "\n",
    "withdrawal_value = mango.TokenValue(sol_token, decimal.Decimal(\"0.5\"))\n",
    "destination_token_account = mango.TokenAccount.fetch_largest_for_owner_and_token(context, wallet.address, sol_token)\n",
    "withdrawal_token_account = mango.TokenAccount(destination_token_account.account_info, destination_token_account.version, destination_token_account.owner, withdrawal_value)\n",
    "\n",
    "allow_borrow = False\n",
    "withdraw = mango.build_withdraw_instructions(context, wallet, group, accounts[0], root_bank, node_bank, withdrawal_token_account, allow_borrow)\n",
    "\n",
    "all_withdraw_instructions = signers + withdraw\n",
    "withdrawal_transaction_ids = all_withdraw_instructions.execute(context)\n",
    "print(\"Withdrawal transaction IDs:\", withdrawal_transaction_ids)\n",
    "\n",
    "print(\"Sleeping for 10 seconds...\\n\")\n",
    "time.sleep(10)\n",
    "\n",
    "print(\"After withdrawal:\")\n",
    "show_balances(context, wallet, group, sol_token)\n",
    "\n",
    "print(\"Done.\")\n"
   ]
  }
 ],
 "metadata": {
  "interpreter": {
   "hash": "ac2eaa0ea0ebeafcc7822e65e46aa9d4f966f30b695406963e145ea4a91cd4fc"
  },
  "kernelspec": {
   "display_name": "Python 3",
   "language": "python",
   "name": "python3"
  },
  "language_info": {
   "codemirror_mode": {
    "name": "ipython",
    "version": 3
   },
   "file_extension": ".py",
   "mimetype": "text/x-python",
   "name": "python",
   "nbconvert_exporter": "python",
   "pygments_lexer": "ipython3",
   "version": "3.9.4"
  },
  "metadata": {
   "interpreter": {
    "hash": "ac2eaa0ea0ebeafcc7822e65e46aa9d4f966f30b695406963e145ea4a91cd4fc"
   }
  },
  "toc": {
   "base_numbering": 1,
   "nav_menu": {},
   "number_sections": true,
   "sideBar": true,
   "skip_h1_title": false,
   "title_cell": "Table of Contents",
   "title_sidebar": "Contents",
   "toc_cell": false,
   "toc_position": {},
   "toc_section_display": true,
   "toc_window_display": true
  },
  "varInspector": {
   "cols": {
    "lenName": 16,
    "lenType": 16,
    "lenVar": 40
   },
   "kernels_config": {
    "python": {
     "delete_cmd_postfix": "",
     "delete_cmd_prefix": "del ",
     "library": "var_list.py",
     "varRefreshCmd": "print(var_dic_list())"
    },
    "r": {
     "delete_cmd_postfix": ") ",
     "delete_cmd_prefix": "rm(",
     "library": "var_list.r",
     "varRefreshCmd": "cat(var_dic_list()) "
    }
   },
   "types_to_exclude": [
    "module",
    "function",
    "builtin_function_or_method",
    "instance",
    "_Feature"
   ],
   "window_display": false
  }
 },
 "nbformat": 4,
 "nbformat_minor": 5
}
