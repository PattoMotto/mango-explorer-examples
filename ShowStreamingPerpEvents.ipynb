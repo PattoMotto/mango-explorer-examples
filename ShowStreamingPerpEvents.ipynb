{
 "cells": [
  {
   "cell_type": "markdown",
   "id": "1c81447d",
   "metadata": {},
   "source": [
    "[🥭 Mango Markets](https://mango.markets/) support is available at: [Docs](https://docs.mango.markets/) | [Discord](https://discord.gg/67jySBhxrg) | [Twitter](https://twitter.com/mangomarkets) | [Github](https://github.com/blockworks-foundation) | [Email](mailto:hello@blockworks.foundation)\n",
    "\n",
    "[![Binder](https://mybinder.org/badge_logo.svg)](https://mybinder.org/v2/gh/blockworks-foundation/mango-explorer-examples/HEAD?labpath=ShowPrice.ipynb) [Run this code](https://mybinder.org/v2/gh/blockworks-foundation/mango-explorer-examples/HEAD?labpath=ShowPrice.ipynb) on Binder.\n",
    "\n",
    "_🏃‍♀️ To run this notebook press the ⏩ icon in the toolbar above._"
   ]
  },
  {
   "cell_type": "markdown",
   "id": "055fbf67",
   "metadata": {},
   "source": [
    "# 🥭 Show Streaming Perp Events\n",
    "\n",
    "This notebook shows how to stream the event queue for a perp market via a websocket, showing new events as they appear."
   ]
  },
  {
   "cell_type": "code",
   "execution_count": null,
   "id": "88779eaa",
   "metadata": {},
   "outputs": [],
   "source": [
    "import mango\n",
    "import rx\n",
    "import threading\n",
    "\n",
    "# Create a 'devnet' Context\n",
    "context = mango.ContextBuilder.build(cluster_name=\"devnet\")\n",
    "\n",
    "# Load the market\n",
    "stub = context.market_lookup.find_by_symbol(\"BTC-PERP\")\n",
    "market = mango.ensure_market_loaded(context, stub)\n",
    "\n",
    "# Pick out the event queue address\n",
    "event_queue_address = market.underlying_perp_market.event_queue\n",
    "initial: mango.PerpEventQueue = mango.PerpEventQueue.load(context, event_queue_address, market.lot_size_converter)\n",
    "\n",
    "perp_splitter: mango.UnseenPerpEventChangesTracker = mango.UnseenPerpEventChangesTracker(initial)\n",
    "event_splitting_subscription = mango.WebSocketAccountSubscription(context, event_queue_address, lambda account_info: mango.PerpEventQueue.parse(account_info, market.lot_size_converter))\n",
    "\n",
    "manager = mango.IndividualWebSocketSubscriptionManager(context)\n",
    "manager.add(event_splitting_subscription)\n",
    "\n",
    "publisher = event_splitting_subscription.publisher.pipe(rx.operators.flat_map(perp_splitter.unseen))\n",
    "event_subscription = publisher.subscribe(mango.PrintingObserverSubscriber(False))\n",
    "\n",
    "print(\"About to start streaming events. Press the stop button (⏹️) in the toolbar to stop streaming.\")\n",
    "\n",
    "manager.open()\n",
    "\n",
    "# Wait - don't exit. Exiting will be handled by signals/interrupts.\n",
    "waiter = threading.Event()\n",
    "try:\n",
    "    waiter.wait()\n",
    "except:\n",
    "    pass\n",
    "\n",
    "event_subscription.dispose()\n",
    "manager.dispose()\n",
    "\n",
    "print(\"Example complete.\")"
   ]
  }
 ],
 "metadata": {
  "interpreter": {
   "hash": "ac2eaa0ea0ebeafcc7822e65e46aa9d4f966f30b695406963e145ea4a91cd4fc"
  },
  "kernelspec": {
   "display_name": "Python 3",
   "language": "python",
   "name": "python3"
  },
  "language_info": {
   "codemirror_mode": {
    "name": "ipython",
    "version": 3
   },
   "file_extension": ".py",
   "mimetype": "text/x-python",
   "name": "python",
   "nbconvert_exporter": "python",
   "pygments_lexer": "ipython3",
   "version": "3.9.4"
  },
  "metadata": {
   "interpreter": {
    "hash": "ac2eaa0ea0ebeafcc7822e65e46aa9d4f966f30b695406963e145ea4a91cd4fc"
   }
  },
  "toc": {
   "base_numbering": 1,
   "nav_menu": {},
   "number_sections": true,
   "sideBar": true,
   "skip_h1_title": false,
   "title_cell": "Table of Contents",
   "title_sidebar": "Contents",
   "toc_cell": false,
   "toc_position": {},
   "toc_section_display": true,
   "toc_window_display": true
  },
  "varInspector": {
   "cols": {
    "lenName": 16,
    "lenType": 16,
    "lenVar": 40
   },
   "kernels_config": {
    "python": {
     "delete_cmd_postfix": "",
     "delete_cmd_prefix": "del ",
     "library": "var_list.py",
     "varRefreshCmd": "print(var_dic_list())"
    },
    "r": {
     "delete_cmd_postfix": ") ",
     "delete_cmd_prefix": "rm(",
     "library": "var_list.r",
     "varRefreshCmd": "cat(var_dic_list()) "
    }
   },
   "types_to_exclude": [
    "module",
    "function",
    "builtin_function_or_method",
    "instance",
    "_Feature"
   ],
   "window_display": false
  }
 },
 "nbformat": 4,
 "nbformat_minor": 5
}
