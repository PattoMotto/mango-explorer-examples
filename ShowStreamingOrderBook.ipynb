{
 "cells": [
  {
   "cell_type": "markdown",
   "id": "1c81447d",
   "metadata": {},
   "source": [
    "[🥭 Mango Markets](https://mango.markets/) support is available at: [Docs](https://docs.mango.markets/) | [Discord](https://discord.gg/67jySBhxrg) | [Twitter](https://twitter.com/mangomarkets) | [Github](https://github.com/blockworks-foundation) | [Email](mailto:hello@blockworks.foundation)\n",
    "\n",
    "[![Binder](https://mybinder.org/badge_logo.svg)](https://mybinder.org/v2/gh/blockworks-foundation/mango-explorer-examples/HEAD?labpath=ShowStreamingOrderBook.ipynb) [Run this code](https://mybinder.org/v2/gh/blockworks-foundation/mango-explorer-examples/HEAD?labpath=ShowStreamingOrderBook.ipynb) on Binder.\n",
    "\n",
    "_🏃‍♀️ To run this notebook press the ⏩ icon in the toolbar above._"
   ]
  },
  {
   "cell_type": "markdown",
   "id": "055fbf67",
   "metadata": {},
   "source": [
    "# 🥭 Show Streaming OrderBook\n",
    "\n",
    "This notebook shows how to stream the `OrderBook` for a perp market via a websocket, showing new orders as they appear.\n",
    "\n",
    "Streaming changes to an `OrderBook` is complicated by the fact that an `OrderBook` is based on two Solana accounts, not one. Bids and asks are held in separate accounts, and we want to update the `OrderBook` when either of them is changed.\n",
    "\n",
    "What the code does:\n",
    "* Fetch the current `OrderBook` to start with.\n",
    "* Build websocket subscriptions to both the bids and asks accounts.\n",
    "* Combine those changes into a single subscription that returns the updated `OrderBook`\n",
    "* Watches that subscription for changes, and prints out the `OrderBook` when it is updated\n",
    "\n",
    "Side note: in this case, the `orderbook` variable below is always the 'current' orderbook - it's what is updated and returned each time."
   ]
  },
  {
   "cell_type": "code",
   "execution_count": null,
   "id": "88779eaa",
   "metadata": {},
   "outputs": [],
   "source": [
    "import datetime\n",
    "import mango\n",
    "import rx\n",
    "import threading\n",
    "\n",
    "# Create a 'devnet' Context\n",
    "context = mango.ContextBuilder.build(cluster_name=\"devnet\")\n",
    "\n",
    "# Load the market\n",
    "stub = context.market_lookup.find_by_symbol(\"BTC-PERP\")\n",
    "market = mango.ensure_market_loaded(context, stub)\n",
    "\n",
    "orderbook_addresses = [\n",
    "    market.bids_address,\n",
    "    market.asks_address\n",
    "]\n",
    "orderbook_infos = mango.AccountInfo.load_multiple(context, orderbook_addresses)\n",
    "orderbook = market.parse_account_infos_to_orderbook(orderbook_infos[0], orderbook_infos[1])\n",
    "\n",
    "def _update_bids(account_info: mango.AccountInfo) -> mango.OrderBook:\n",
    "    new_bids = market.parse_account_info_to_orders(account_info)\n",
    "    orderbook.bids = new_bids\n",
    "    return orderbook\n",
    "\n",
    "def _update_asks(account_info: mango.AccountInfo) -> mango.OrderBook:\n",
    "    new_asks = market.parse_account_info_to_orders(account_info)\n",
    "    orderbook.asks = new_asks\n",
    "    return orderbook\n",
    "\n",
    "manager = mango.IndividualWebSocketSubscriptionManager(context)\n",
    "bids_subscription = mango.WebSocketAccountSubscription[mango.OrderBook](context, orderbook_addresses[0], _update_bids)\n",
    "manager.add(bids_subscription)\n",
    "asks_subscription = mango.WebSocketAccountSubscription[mango.OrderBook](context, orderbook_addresses[1], _update_asks)\n",
    "manager.add(asks_subscription)\n",
    "\n",
    "bids_and_asks_changes = bids_subscription.publisher.pipe(rx.operators.merge(asks_subscription.publisher))\n",
    "\n",
    "# Here's where you would hook into the OrderBook updates. This code just prints a timestamp and the OrderBook but you can\n",
    "# add any arbitrary code to run on the update here.\n",
    "orderbook_updates_subscription = bids_and_asks_changes.subscribe(lambda ob: print(\"\\n\", datetime.datetime.now(), \"\\n\", ob))\n",
    "\n",
    "print(\"About to start streaming the OrderBook. Press the stop button (⏹️) in the toolbar to stop streaming.\")\n",
    "print(\"(OrderBook updates often come in pairs, when marketmakers update both bids and asks in the same transaction.)\")\n",
    "\n",
    "manager.open()\n",
    "\n",
    "# Wait - don't exit. Exiting will be handled by signals/interrupts.\n",
    "waiter = threading.Event()\n",
    "try:\n",
    "    waiter.wait()\n",
    "except KeyboardInterrupt:\n",
    "    pass\n",
    "\n",
    "orderbook_updates_subscription.dispose()\n",
    "manager.dispose()\n",
    "\n",
    "print(\"Example complete.\")"
   ]
  }
 ],
 "metadata": {
  "interpreter": {
   "hash": "ac2eaa0ea0ebeafcc7822e65e46aa9d4f966f30b695406963e145ea4a91cd4fc"
  },
  "kernelspec": {
   "display_name": "Python 3 (ipykernel)",
   "language": "python",
   "name": "python3"
  },
  "language_info": {
   "codemirror_mode": {
    "name": "ipython",
    "version": 3
   },
   "file_extension": ".py",
   "mimetype": "text/x-python",
   "name": "python",
   "nbconvert_exporter": "python",
   "pygments_lexer": "ipython3",
   "version": "3.9.8"
  },
  "metadata": {
   "interpreter": {
    "hash": "ac2eaa0ea0ebeafcc7822e65e46aa9d4f966f30b695406963e145ea4a91cd4fc"
   }
  },
  "toc": {
   "base_numbering": 1,
   "nav_menu": {},
   "number_sections": true,
   "sideBar": true,
   "skip_h1_title": false,
   "title_cell": "Table of Contents",
   "title_sidebar": "Contents",
   "toc_cell": false,
   "toc_position": {},
   "toc_section_display": true,
   "toc_window_display": true
  },
  "varInspector": {
   "cols": {
    "lenName": 16,
    "lenType": 16,
    "lenVar": 40
   },
   "kernels_config": {
    "python": {
     "delete_cmd_postfix": "",
     "delete_cmd_prefix": "del ",
     "library": "var_list.py",
     "varRefreshCmd": "print(var_dic_list())"
    },
    "r": {
     "delete_cmd_postfix": ") ",
     "delete_cmd_prefix": "rm(",
     "library": "var_list.r",
     "varRefreshCmd": "cat(var_dic_list()) "
    }
   },
   "types_to_exclude": [
    "module",
    "function",
    "builtin_function_or_method",
    "instance",
    "_Feature"
   ],
   "window_display": false
  }
 },
 "nbformat": 4,
 "nbformat_minor": 5
}
