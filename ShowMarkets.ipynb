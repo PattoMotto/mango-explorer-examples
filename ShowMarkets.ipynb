{
 "cells": [
  {
   "cell_type": "markdown",
   "id": "1c81447d",
   "metadata": {},
   "source": [
    "[🥭 Mango Markets](https://mango.markets/) support is available at: [Docs](https://docs.mango.markets/) | [Discord](https://discord.gg/67jySBhxrg) | [Twitter](https://twitter.com/mangomarkets) | [Github](https://github.com/blockworks-foundation) | [Email](mailto:hello@blockworks.foundation)\n",
    "\n",
    "[![Binder](https://mybinder.org/badge_logo.svg)](https://mybinder.org/v2/gh/blockworks-foundation/mango-explorer-examples/HEAD?labpath=ShowMarkets.ipynb) [Run this code](https://mybinder.org/v2/gh/blockworks-foundation/mango-explorer-examples/HEAD?labpath=ShowMarkets.ipynb) on Binder.\n",
    "\n",
    "_🏃‍♀️ To run this notebook press the ⏩ icon in the toolbar above._"
   ]
  },
  {
   "cell_type": "markdown",
   "id": "055fbf67",
   "metadata": {},
   "source": [
    "# 🥭 Show Markets\n",
    "\n",
    "This notebook shows the details of the Serum, Spot and Perp markets.\n",
    "\n",
    "For each of Serum, Spot and Perp, it fetches the data from Solana, parses it, and then prints it.\n",
    "\n",
    "## Market Symbols\n",
    "\n",
    "A quick word about market symbols. Normally you can get by just fine specifying the market as something like 'BTC/USDC'. Sometimes though you need to differentiate between the Mango spot market and the underlying Serum market, so to unambiguously specify a market you can add a prefix of 'serum:', 'spot:', or 'perp:'.\n",
    "\n",
    "If no prefix is used and there is ambiguity, the Mango Spot market is used (so 'BTC/USDC' and 'spot:BTC/USDC' refer to the same market, and 'serum:BTC/USDC' refers to the Serum market)."
   ]
  },
  {
   "cell_type": "code",
   "execution_count": null,
   "id": "88779eaa",
   "metadata": {},
   "outputs": [],
   "source": [
    "import mango\n",
    "\n",
    "# Create a 'devnet' Context\n",
    "context = mango.ContextBuilder.build(cluster_name=\"devnet\")\n",
    "\n",
    "# SERUM MARKET\n",
    "# Find the addresses associated with the Serum market\n",
    "serum_stub = context.market_lookup.find_by_symbol(\"serum:BTC/USDC\")\n",
    "\n",
    "# Load the rest of the on-chain metadata of the market\n",
    "serum_market = mango.ensure_market_loaded(context, serum_stub)\n",
    "print(\"serum_market\", serum_market)\n",
    "\n",
    "# SPOT MARKET\n",
    "# Find the addresses associated with the Spot market\n",
    "spot_stub = context.market_lookup.find_by_symbol(\"spot:BTC/USDC\")\n",
    "\n",
    "# Load the rest of the on-chain metadata of the market\n",
    "spot_market = mango.ensure_market_loaded(context, spot_stub)\n",
    "print(\"spot_market\", spot_market)\n",
    "\n",
    "# PERP MARKET\n",
    "# Find the addresses associated with the Perp market\n",
    "perp_stub = context.market_lookup.find_by_symbol(\"perp:BTC-PERP\")\n",
    "\n",
    "# Load the rest of the on-chain metadata of the market\n",
    "perp_market = mango.ensure_market_loaded(context, perp_stub)\n",
    "print(\"perp_market\", perp_market)\n",
    "\n",
    "print(\"Example complete.\")"
   ]
  }
 ],
 "metadata": {
  "interpreter": {
   "hash": "ac2eaa0ea0ebeafcc7822e65e46aa9d4f966f30b695406963e145ea4a91cd4fc"
  },
  "kernelspec": {
   "display_name": "Python 3",
   "language": "python",
   "name": "python3"
  },
  "language_info": {
   "codemirror_mode": {
    "name": "ipython",
    "version": 3
   },
   "file_extension": ".py",
   "mimetype": "text/x-python",
   "name": "python",
   "nbconvert_exporter": "python",
   "pygments_lexer": "ipython3",
   "version": "3.9.7"
  },
  "metadata": {
   "interpreter": {
    "hash": "ac2eaa0ea0ebeafcc7822e65e46aa9d4f966f30b695406963e145ea4a91cd4fc"
   }
  },
  "toc": {
   "base_numbering": 1,
   "nav_menu": {},
   "number_sections": true,
   "sideBar": true,
   "skip_h1_title": false,
   "title_cell": "Table of Contents",
   "title_sidebar": "Contents",
   "toc_cell": false,
   "toc_position": {},
   "toc_section_display": true,
   "toc_window_display": true
  },
  "varInspector": {
   "cols": {
    "lenName": 16,
    "lenType": 16,
    "lenVar": 40
   },
   "kernels_config": {
    "python": {
     "delete_cmd_postfix": "",
     "delete_cmd_prefix": "del ",
     "library": "var_list.py",
     "varRefreshCmd": "print(var_dic_list())"
    },
    "r": {
     "delete_cmd_postfix": ") ",
     "delete_cmd_prefix": "rm(",
     "library": "var_list.r",
     "varRefreshCmd": "cat(var_dic_list()) "
    }
   },
   "types_to_exclude": [
    "module",
    "function",
    "builtin_function_or_method",
    "instance",
    "_Feature"
   ],
   "window_display": false
  }
 },
 "nbformat": 4,
 "nbformat_minor": 5
}
